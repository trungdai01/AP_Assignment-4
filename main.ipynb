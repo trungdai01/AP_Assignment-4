{
 "cells": [
  {
   "cell_type": "code",
   "execution_count": 23,
   "metadata": {},
   "outputs": [],
   "source": [
    "from functools import partial\n",
    "from functools import reduce\n",
    "from itertools import *\n",
    "import time"
   ]
  },
  {
   "cell_type": "code",
   "execution_count": 10,
   "metadata": {},
   "outputs": [
    {
     "name": "stdout",
     "output_type": "stream",
     "text": [
      "Hello World\n",
      "Hello World\n"
     ]
    }
   ],
   "source": [
    "# Functions are objects\n",
    "def hello():\n",
    "    return \"Hello World\"\n",
    "print(hello())\n",
    "\n",
    "world = hello\n",
    "print(world())"
   ]
  },
  {
   "cell_type": "code",
   "execution_count": 12,
   "metadata": {},
   "outputs": [
    {
     "name": "stdout",
     "output_type": "stream",
     "text": [
      "16\n"
     ]
    }
   ],
   "source": [
    "# Functions can be passed as arguments\n",
    "def foo(f, x):\n",
    "    return f(x)\n",
    "\n",
    "def pow2(x):\n",
    "    return x**2\n",
    "\n",
    "print(foo(pow2, 4))"
   ]
  },
  {
   "cell_type": "code",
   "execution_count": 13,
   "metadata": {},
   "outputs": [
    {
     "name": "stdout",
     "output_type": "stream",
     "text": [
      "12\n"
     ]
    }
   ],
   "source": [
    "# Functions can be returned as a value\n",
    "def f(x):\n",
    "    def g(y):\n",
    "        return x * y\n",
    "    return g\n",
    "\n",
    "expFuncVal = f(3)\n",
    "print(expFuncVal(4))"
   ]
  },
  {
   "cell_type": "code",
   "execution_count": null,
   "metadata": {},
   "outputs": [],
   "source": [
    "#Pure Functions\n",
    "def add1(x, y):\n",
    "    return x + y # ---> Pure function\n",
    "\n",
    "def add2(x, y):\n",
    "    print(x + y) # ---> Not a pure function"
   ]
  },
  {
   "cell_type": "code",
   "execution_count": 6,
   "metadata": {},
   "outputs": [
    {
     "name": "stdout",
     "output_type": "stream",
     "text": [
      "2.0\n",
      "0.5\n"
     ]
    },
    {
     "ename": "ZeroDivisionError",
     "evalue": "division by zero",
     "output_type": "error",
     "traceback": [
      "\u001b[1;31m---------------------------------------------------------------------------\u001b[0m",
      "\u001b[1;31mZeroDivisionError\u001b[0m                         Traceback (most recent call last)",
      "Cell \u001b[1;32mIn[6], line 8\u001b[0m\n\u001b[0;32m      6\u001b[0m \u001b[38;5;28mprint\u001b[39m(division(\u001b[38;5;241m3\u001b[39m, \u001b[38;5;241m6\u001b[39m))  \u001b[38;5;66;03m# Output : OK\u001b[39;00m\n\u001b[0;32m      7\u001b[0m \u001b[38;5;66;03m# print(division(1, 0))  # Output : Failure , since 1 can not be divided by 0.\u001b[39;00m\n\u001b[1;32m----> 8\u001b[0m \u001b[38;5;28mprint\u001b[39m(\u001b[38;5;28mlen\u001b[39m([\u001b[38;5;241m1\u001b[39m \u001b[38;5;241m+\u001b[39m \u001b[38;5;241m0\u001b[39m, \u001b[38;5;241m1\u001b[39m \u001b[38;5;241m*\u001b[39m \u001b[38;5;241m0\u001b[39m, \u001b[38;5;241;43m1\u001b[39;49m\u001b[43m \u001b[49m\u001b[38;5;241;43m/\u001b[39;49m\u001b[43m \u001b[49m\u001b[38;5;241;43m0\u001b[39;49m, \u001b[38;5;241m1\u001b[39m \u001b[38;5;241m-\u001b[39m \u001b[38;5;241m0\u001b[39m]))\n\u001b[0;32m      9\u001b[0m \u001b[38;5;66;03m# Output : Failure , since it must evaluate the expression \"1/0\"\u001b[39;00m\n\u001b[0;32m     10\u001b[0m \u001b[38;5;66;03m# before it could return the value of higher - order function .\u001b[39;00m\n",
      "\u001b[1;31mZeroDivisionError\u001b[0m: division by zero"
     ]
    }
   ],
   "source": [
    "# Strict evaluation\n",
    "def division(x, y):\n",
    "    return x / y\n",
    "\n",
    "print(division(8, 4))  # Output : OK\n",
    "print(division(3, 6))  # Output : OK\n",
    "# print(division(1, 0))  # Output : Failure , since 1 can not be divided by 0.\n",
    "print(len([1 + 0, 1 * 0, 1 / 0, 1 - 0]))\n",
    "# Output : Failure , since it must evaluate the expression \"1/0\"\n",
    "# before it could return the value of higher - order function ."
   ]
  },
  {
   "cell_type": "code",
   "execution_count": 15,
   "metadata": {},
   "outputs": [
    {
     "name": "stdout",
     "output_type": "stream",
     "text": [
      "0\n",
      "True\n"
     ]
    }
   ],
   "source": [
    "# Short-circuit operators\n",
    "print(0 and \"string\")\n",
    "print(True or \"right\")"
   ]
  },
  {
   "cell_type": "code",
   "execution_count": 20,
   "metadata": {},
   "outputs": [
    {
     "name": "stdout",
     "output_type": "stream",
     "text": [
      "[0, 1, 2, 3, 4]\n",
      "{0, 1, 2, 3, 4}\n",
      "{0: 0, 1: 1, 2: 4, 3: 9, 4: 16, 5: 25, 6: 36, 7: 49, 8: 64, 9: 81}\n"
     ]
    }
   ],
   "source": [
    "# List Comprehension\n",
    "listComprehension = [x for x in range(5)]\n",
    "print(listComprehension)\n",
    "# Set Comprehension\n",
    "setComprehension = {x for x in range(5)}\n",
    "print(setComprehension)\n",
    "# Dict Comprehension\n",
    "dictComprehension = {x: x**2 for x in range(10)}\n",
    "print(dictComprehension)"
   ]
  },
  {
   "cell_type": "code",
   "execution_count": 21,
   "metadata": {},
   "outputs": [
    {
     "name": "stdout",
     "output_type": "stream",
     "text": [
      "[(1, 4), (2, 5), (3, 6)]\n"
     ]
    }
   ],
   "source": [
    "# Zip function\n",
    "list1 = [1, 2, 3]\n",
    "list2 = [4, 5, 6]\n",
    "\n",
    "zipList = list(zip(list1, list2))\n",
    "print(zipList)"
   ]
  },
  {
   "cell_type": "code",
   "execution_count": 25,
   "metadata": {},
   "outputs": [
    {
     "name": "stdout",
     "output_type": "stream",
     "text": [
      "3\n",
      "15\n",
      "18\n",
      "18\n",
      "18\n"
     ]
    }
   ],
   "source": [
    "# Curried Function\n",
    "def curry_add(x):\n",
    "    def curried(y):\n",
    "        return x + y\n",
    "    return curried\n",
    "\n",
    "print(curry_add(1)(2))\n",
    "\n",
    "def add1(x, y):\n",
    "    return x + y\n",
    "\n",
    "add_5 = partial(add1, 5)\n",
    "print(add_5(10))\n",
    "\n",
    "def defined_curry(f):\n",
    "    def curried(*args, **kwargs):\n",
    "        if len(args) + len(kwargs) >= f.__code__.co_argcount:\n",
    "            return f(*args, **kwargs)\n",
    "        return partial(curried, *args, **kwargs)\n",
    "    return curried\n",
    "\n",
    "def mult(x, y, z):\n",
    "    return x * y * z\n",
    "\n",
    "curried_add = defined_curry(mult)\n",
    "print(curried_add(3)(2)(3))  \n",
    "print(curried_add(3, 2)(3))\n",
    "print(curried_add(3)(2, 3))"
   ]
  },
  {
   "cell_type": "code",
   "execution_count": 2,
   "metadata": {},
   "outputs": [
    {
     "name": "stdout",
     "output_type": "stream",
     "text": [
      "24\n",
      "9\n"
     ]
    }
   ],
   "source": [
    "# Recursive functions\n",
    "def factorial(n):\n",
    "    if n == 0:\n",
    "        return 1\n",
    "    elif n > 0:\n",
    "        return n * factorial(n - 1)\n",
    "\n",
    "\n",
    "print(factorial(4))\n",
    "\n",
    "def add_recursion(a, b):\n",
    "    if a == 0:\n",
    "        return b\n",
    "    else:\n",
    "        return add_recursion(a - 1, b + 1)\n",
    "\n",
    "\n",
    "print(add_recursion(4, 5))"
   ]
  },
  {
   "cell_type": "code",
   "execution_count": 4,
   "metadata": {},
   "outputs": [
    {
     "name": "stdout",
     "output_type": "stream",
     "text": [
      "9\n"
     ]
    }
   ],
   "source": [
    "# Function composition\n",
    "def compose(f, g):\n",
    "    return lambda x: f(g(x))\n",
    "\n",
    "def f(x):\n",
    "    return x + 2\n",
    "\n",
    "def g(x):\n",
    "    return x + 3\n",
    "\n",
    "h = compose(f, g)\n",
    "print(h(4))"
   ]
  },
  {
   "cell_type": "code",
   "execution_count": 28,
   "metadata": {},
   "outputs": [
    {
     "name": "stdout",
     "output_type": "stream",
     "text": [
      "[5, 7, 9]\n"
     ]
    }
   ],
   "source": [
    "# Anonymous function\n",
    "x = [1, 2, 3, 4]\n",
    "y = [5, 6, 7]\n",
    "x1 = list(map(lambda x, y: x + y, list1, list2))\n",
    "print(x1)"
   ]
  },
  {
   "cell_type": "code",
   "execution_count": 32,
   "metadata": {},
   "outputs": [
    {
     "name": "stdout",
     "output_type": "stream",
     "text": [
      "[5, 12, 21, 32, 45]\n",
      "[5, 12, 21, 32, 45]\n"
     ]
    }
   ],
   "source": [
    "# Apply to all: map function the same as map in Haskell\n",
    "list1 = [1, 2, 3, 4, 5]\n",
    "list2 = [5, 6, 7, 8, 9]\n",
    "\n",
    "def mult(x, y):\n",
    "    return x * y\n",
    "\n",
    "print(list(map(mult, list1, list2)))\n",
    "\n",
    "def define_map(func, *iterables):\n",
    "    iterators = [iter(it) for it in iterables]\n",
    "    while True:\n",
    "        try:\n",
    "            args = [next(it) for it in iterators]\n",
    "            yield func(*args)\n",
    "        except StopIteration:\n",
    "            return\n",
    "\n",
    "mult_numbers = list(define_map(mult, list1, list2))\n",
    "\n",
    "print(mult_numbers)"
   ]
  },
  {
   "cell_type": "code",
   "execution_count": 33,
   "metadata": {},
   "outputs": [
    {
     "name": "stdout",
     "output_type": "stream",
     "text": [
      "[2, 4, 6, 8, 10]\n",
      "[2, 4, 6, 8, 10]\n"
     ]
    }
   ],
   "source": [
    "# Filter: the same as Filter in Haskell\n",
    "listFilter = [1, 2, 3, 4, 5, 6, 7, 8, 9, 10]\n",
    "\n",
    "def is_even(x):\n",
    "    return x % 2 == 0\n",
    "\n",
    "result = filter(is_even, listFilter)\n",
    "print(list(result))\n",
    "\n",
    "def define_filter(func, iterable):\n",
    "    for item in iterable:\n",
    "        if func(item):\n",
    "            yield item\n",
    "\n",
    "print(list(define_filter(is_even, listFilter)))"
   ]
  },
  {
   "cell_type": "code",
   "execution_count": 37,
   "metadata": {},
   "outputs": [
    {
     "name": "stdout",
     "output_type": "stream",
     "text": [
      "10\n",
      "oabc\n",
      "abco\n",
      "10\n",
      "10\n",
      "oabc\n"
     ]
    }
   ],
   "source": [
    "# Insert left/Insert right: Fold left in Haskell\n",
    "listA = [1, 2, 3, 4]\n",
    "\n",
    "def fold_left(func, inital, lst):\n",
    "    return reduce(func, lst, inital)\n",
    "\n",
    "result = fold_left(lambda x, y: x+y, 0, listA)\n",
    "print(result)\n",
    "\n",
    "def fold_right(func, initial, lst):\n",
    "    return reduce(lambda x, y: func(y, x), reversed(lst), initial)\n",
    "\n",
    "def sum(x, y):\n",
    "    return x + y\n",
    "\n",
    "def mult(x, y):\n",
    "    return x * y\n",
    "\n",
    "lst = [\"a\", \"b\", \"c\"]\n",
    "result = fold_left(lambda acc, x: acc + x, \"o\", lst)\n",
    "print(result)\n",
    "result1 = fold_right(lambda x, acc: x + acc, \"o\", lst)\n",
    "print(result1)\n",
    "\n",
    "result = fold_left(sum, 0, listA)\n",
    "result1 = fold_right(sum, 0, listA)\n",
    "print(result)\n",
    "print(result1)\n",
    "\n",
    "def custom_reduce(func, sequence, initial):\n",
    "    accumulator = initial\n",
    "    for item in sequence:\n",
    "        accumulator = func(accumulator, item)\n",
    "    return accumulator\n",
    "\n",
    "\n",
    "def foldL_define(func, inital, lst):\n",
    "    return custom_reduce(func, lst, inital)\n",
    "\n",
    "\n",
    "lst = \"abc\"\n",
    "result = foldL_define(lambda acc, x: acc + x, \"o\", lst)\n",
    "print(result)"
   ]
  },
  {
   "cell_type": "code",
   "execution_count": 38,
   "metadata": {},
   "outputs": [
    {
     "name": "stdout",
     "output_type": "stream",
     "text": [
      "Example closure square: 16\n",
      "Example closure cube: 64\n",
      "10\n"
     ]
    }
   ],
   "source": [
    "# Closure functions\n",
    "def make_power_function(power):\n",
    "    def power_function(x):\n",
    "        return x**power\n",
    "\n",
    "    return power_function\n",
    "\n",
    "\n",
    "expSquare = make_power_function(2)\n",
    "expCube = make_power_function(3)\n",
    "\n",
    "print(\"Example closure square:\", expSquare(4))\n",
    "print(\"Example closure cube:\", expCube(4))\n",
    "\n",
    "def make_multiplier(factor):\n",
    "    def multiplier(x):\n",
    "        return x * factor\n",
    "    return multiplier\n",
    "\n",
    "double = make_multiplier(2)\n",
    "print(double(5))"
   ]
  },
  {
   "cell_type": "code",
   "execution_count": 5,
   "metadata": {},
   "outputs": [
    {
     "name": "stdout",
     "output_type": "stream",
     "text": [
      "Calling function: add\n",
      "Arguments: (3, 5) {}\n",
      "Function add returned 8\n",
      "Calling function: multiply\n",
      "Arguments: (4, 7) {}\n",
      "Function multiply returned 28\n"
     ]
    }
   ],
   "source": [
    "# Decorator\n",
    "def log_function_call(func):\n",
    "    def wrapper(*args, **kwargs):\n",
    "        print(f\"Calling function: {func.__name__}\")\n",
    "        print(f\"Arguments: {args} {kwargs}\")\n",
    "        result = func(*args, **kwargs)\n",
    "        print(f\"Function {func.__name__} returned {result}\")\n",
    "        return result\n",
    "\n",
    "    return wrapper\n",
    "\n",
    "\n",
    "@log_function_call\n",
    "def add(a, b):\n",
    "    return a + b\n",
    "\n",
    "\n",
    "@log_function_call\n",
    "def multiply(a, b):\n",
    "    return a * b\n",
    "\n",
    "\n",
    "result1 = add(3, 5)\n",
    "result2 = multiply(4, 7)\n",
    "\n",
    "\n",
    "def timing(func):\n",
    "    def wrapper(*args, **kwargs):\n",
    "        start_time = time.time()\n",
    "        result = func(*args, **kwargs)\n",
    "        end_time = time.time()\n",
    "        print(f\"Function {func.__name__} took {end_time - start_time} seconds\")\n",
    "        return result\n",
    "\n",
    "    return wrapper\n",
    "\n",
    "\n",
    "@timing\n",
    "def slow_function():\n",
    "    time.sleep(2)\n",
    "    return \"Finished\""
   ]
  }
 ],
 "metadata": {
  "kernelspec": {
   "display_name": "Python 3",
   "language": "python",
   "name": "python3"
  },
  "language_info": {
   "codemirror_mode": {
    "name": "ipython",
    "version": 3
   },
   "file_extension": ".py",
   "mimetype": "text/x-python",
   "name": "python",
   "nbconvert_exporter": "python",
   "pygments_lexer": "ipython3",
   "version": "3.11.8"
  }
 },
 "nbformat": 4,
 "nbformat_minor": 2
}
